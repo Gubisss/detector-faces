{
 "cells": [
  {
   "cell_type": "code",
   "execution_count": null,
   "metadata": {},
   "outputs": [],
   "source": [
    "pip install opencv-python"
   ]
  },
  {
   "cell_type": "code",
   "execution_count": 2,
   "metadata": {},
   "outputs": [],
   "source": [
    "import cv2  # Importa a biblioteca OpenCV para visão computacional\n",
    "\n",
    "# Carrega o classificador pré-treinado para detecção de faces do OpenCV\n",
    "face_cascade = cv2.CascadeClassifier(cv2.data.haarcascades + 'haarcascade_frontalface_default.xml')\n",
    "\n",
    "# Carrega o arquivo de vídeo (substitua 'video.mp4' pelo nome do seu vídeo, se diferente)\n",
    "cap = cv2.VideoCapture('testei a base da virginia.mp4')\n",
    "\n",
    "# Verifica se o arquivo de vídeo foi aberto com sucesso\n",
    "if not cap.isOpened():\n",
    "    print(\"Erro: Não foi possível abrir o arquivo de vídeo.\")\n",
    "    exit()  # Interrompe o programa se o vídeo não puder ser aberto\n",
    "\n",
    "# Inicia um loop infinito para processar o vídeo\n",
    "while True:\n",
    "    # Lê um frame do vídeo\n",
    "    ret, frame = cap.read()\n",
    "\n",
    "    # Converte o frame para escala de cinza (a detecção de faces funciona melhor em escala de cinza)\n",
    "    gray = cv2.cvtColor(frame, cv2.COLOR_BGR2GRAY)\n",
    "\n",
    "    # Detecta faces no frame em escala de cinza\n",
    "    faces = face_cascade.detectMultiScale(gray, scaleFactor=1.1, minNeighbors=5, minSize=(30, 30))\n",
    "\n",
    "    # Desenha um retângulo azul ao redor de cada face detectada\n",
    "    for (x, y, w, h) in faces:\n",
    "        cv2.rectangle(frame, (x, y), (x + w, y + h), (255, 0, 0), 2)  # Cor azul em BGR\n",
    "\n",
    "    # Mostra o frame com as faces detectadas em uma janela\n",
    "    cv2.imshow('Detecção de Faces', frame)\n",
    "\n",
    "    # Espera por 1 milissegundo e verifica se 'q' foi pressionado para sair\n",
    "    if cv2.waitKey(1) & 0xFF == ord('q'):\n",
    "        break  # Sai do loop se 'q' for pressionado\n",
    "\n",
    "# Libera o arquivo de vídeo e fecha todas as janelas\n",
    "cap.release()\n",
    "cv2.destroyAllWindows()"
   ]
  },
  {
   "cell_type": "code",
   "execution_count": 3,
   "metadata": {},
   "outputs": [],
   "source": [
    "import cv2  # Importa a biblioteca OpenCV para visão computacional\n",
    "\n",
    "# Carrega o classificador pré-treinado para detecção de faces do OpenCV\n",
    "face_cascade = cv2.CascadeClassifier(cv2.data.haarcascades + 'haarcascade_frontalface_default.xml')\n",
    "\n",
    "# Carrega o arquivo de vídeo (substitua 'video.mp4' pelo nome do seu vídeo, se diferente)\n",
    "cap = cv2.VideoCapture('testei a base da virginia.mp4')\n",
    "\n",
    "# Verifica se o arquivo de vídeo foi aberto com sucesso\n",
    "if not cap.isOpened():\n",
    "    print(\"Erro: Não foi possível abrir o arquivo de vídeo.\")\n",
    "    exit()  # Interrompe o programa se o vídeo não puder ser aberto\n",
    "\n",
    "# Inicia um loop infinito para processar o vídeo\n",
    "while True:\n",
    "    # Lê um frame do vídeo\n",
    "    ret, frame = cap.read()\n",
    "\n",
    "    # Converte o frame para escala de cinza (a detecção de faces funciona melhor em escala de cinza)\n",
    "    gray = cv2.cvtColor(frame, cv2.COLOR_BGR2GRAY)\n",
    "\n",
    "    # Detecta faces no frame em escala de cinza\n",
    "    faces = face_cascade.detectMultiScale(gray, scaleFactor=1.1, minNeighbors=5, minSize=(30, 30))\n",
    "\n",
    "    # Desenha um retângulo azul ao redor de cada face detectada\n",
    "    for (x, y, w, h) in faces:\n",
    "        cv2.rectangle(gray, (x, y), (x + w, y + h), (255, 0, 0), 2)  # Cor azul em BGR\n",
    "\n",
    "    # Mostra o frame com as faces detectadas em uma janela\n",
    "    cv2.imshow('Detecção de Faces', gray)\n",
    "\n",
    "    # Espera por 1 milissegundo e verifica se 'q' foi pressionado para sair\n",
    "    if cv2.waitKey(1) & 0xFF == ord('q'):\n",
    "        break  # Sai do loop se 'q' for pressionado\n",
    "\n",
    "# Libera o arquivo de vídeo e fecha todas as janelas\n",
    "cap.release()\n",
    "cv2.destroyAllWindows()"
   ]
  }
 ],
 "metadata": {
  "kernelspec": {
   "display_name": "Python 3",
   "language": "python",
   "name": "python3"
  },
  "language_info": {
   "codemirror_mode": {
    "name": "ipython",
    "version": 3
   },
   "file_extension": ".py",
   "mimetype": "text/x-python",
   "name": "python",
   "nbconvert_exporter": "python",
   "pygments_lexer": "ipython3",
   "version": "3.12.5"
  }
 },
 "nbformat": 4,
 "nbformat_minor": 2
}
